{
  "nbformat": 4,
  "nbformat_minor": 0,
  "metadata": {
    "colab": {
      "name": "Ensemble Learnings Agorithms.ipynb",
      "provenance": []
    },
    "kernelspec": {
      "name": "python3",
      "display_name": "Python 3"
    },
    "language_info": {
      "name": "python"
    }
  },
  "cells": [
    {
      "cell_type": "code",
      "metadata": {
        "colab": {
          "base_uri": "https://localhost:8080/"
        },
        "id": "RrVbOeQ1nE0d",
        "outputId": "3dad662c-49ac-4f38-bae3-66fc751a5bd1"
      },
      "source": [
        "# Import dos Módulos\n",
        "from pandas import read_csv\n",
        "from sklearn.model_selection import KFold\n",
        "from sklearn.model_selection import cross_val_score\n",
        "from sklearn.ensemble import BaggingClassifier\n",
        "\n",
        "# Carregando os dados\n",
        "arquivo = 'pima-data.csv'\n",
        "colunas = ['preg', 'pla', 'pres', 'skin', 'test', 'mass', 'pedi', 'age', 'class']\n",
        "dados = read_csv(arquivo, names = colunas)\n",
        "array = dados.values\n",
        "\n",
        "# Separando o array em componentes de input e output\n",
        "X = array[:,0:8]\n",
        "Y = array[:,8] \n",
        "\n",
        "\n",
        "# Definindo os valores para o número fe Folds\n",
        "num_folds = 10\n",
        "seed = 7\n",
        "\n",
        "# Definindo o número de trees\n",
        "num_trees = 100\n",
        "max_features = 3\n",
        "\n",
        "# Separandoos dados folds\n",
        "kfold = KFold(num_folds, True, random_state= seed)\n",
        "\n",
        "# Criando o Modelo\n",
        "modelo = BaggingClassifier(n_estimators= num_trees, max_features= max_features)\n",
        "\n",
        "# Cross validation\n",
        "resultado = cross_val_score(modelo, X, Y, cv = kfold)\n",
        "\n",
        "#Print Resultado\n",
        "print(\"Acurácia :%.3f\" % (resultado.mean() * 100))"
      ],
      "execution_count": 8,
      "outputs": [
        {
          "output_type": "stream",
          "name": "stdout",
          "text": [
            "Acurácia :73.443\n"
          ]
        }
      ]
    },
    {
      "cell_type": "code",
      "metadata": {
        "colab": {
          "base_uri": "https://localhost:8080/"
        },
        "id": "RfZ4Yaw0w4YL",
        "outputId": "7cc5459e-f15b-4dae-ffb3-debfc1f8b704"
      },
      "source": [
        "# Extra Tree\n",
        "# Import dos Módulos\n",
        "from pandas import read_csv\n",
        "from sklearn.model_selection import KFold\n",
        "from sklearn.model_selection import cross_val_score\n",
        "from sklearn.ensemble import ExtraTreesClassifier\n",
        "\n",
        "# Carregando os dados\n",
        "arquivo = 'pima-data.csv'\n",
        "colunas = ['preg', 'pla', 'pres', 'skin', 'test', 'mass', 'pedi', 'age', 'class']\n",
        "dados = read_csv(arquivo, names = colunas)\n",
        "array = dados.values\n",
        "\n",
        "# Separando o array em componentes de input e output\n",
        "X = array[:,0:8]\n",
        "Y = array[:,8] \n",
        "\n",
        "\n",
        "# Definindo os valores para o número fe Folds\n",
        "num_folds = 10\n",
        "seed = 7\n",
        "\n",
        "# Definindo o número de trees\n",
        "num_trees = 100\n",
        "max_features = 3\n",
        "\n",
        "# Separandoos dados folds\n",
        "kfold = KFold(num_folds, True, random_state= seed)\n",
        "\n",
        "# Criando o Modelo\n",
        "modelo = ExtraTreesClassifier(n_estimators= num_trees, max_features= max_features)\n",
        "\n",
        "# Cross validation\n",
        "resultado = cross_val_score(modelo, X, Y, cv = kfold)\n",
        "\n",
        "#Print Resultado\n",
        "print(\"Acurácia :%.3f\" % (resultado.mean() * 100))"
      ],
      "execution_count": 9,
      "outputs": [
        {
          "output_type": "stream",
          "name": "stdout",
          "text": [
            "Acurácia :77.090\n"
          ]
        }
      ]
    }
  ]
}